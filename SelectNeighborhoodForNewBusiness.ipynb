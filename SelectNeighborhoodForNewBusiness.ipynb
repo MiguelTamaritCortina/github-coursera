{
 "cells": [
  {
   "cell_type": "markdown",
   "metadata": {},
   "source": [
    "# Selecting neighborhood for a  new wine store in Toronto."
   ]
  },
  {
   "cell_type": "markdown",
   "metadata": {},
   "source": [
    "##### Miguel Tamarit, April 2020"
   ]
  },
  {
   "cell_type": "markdown",
   "metadata": {},
   "source": [
    "## 1. Introduction"
   ]
  },
  {
   "cell_type": "markdown",
   "metadata": {},
   "source": [
    "### 1.1 Background"
   ]
  },
  {
   "cell_type": "markdown",
   "metadata": {},
   "source": [
    "##### Wine is a product often consumed at home and in restaurants.\n",
    "##### Restaurants in particular have few stock space so every day they must purchase products they use. The providers of wine for restaurants must be prepared to serve their customers in short time, so they preferably must have the store near their customers.\n",
    "##### On other hand, the amount of wine people buy in a store is related to population in the neighborhood, and their income amount."
   ]
  },
  {
   "cell_type": "markdown",
   "metadata": {},
   "source": [
    "### 1.2 Problem"
   ]
  },
  {
   "cell_type": "markdown",
   "metadata": {},
   "source": [
    "##### Data is widely available in this times, and it is the key to find the best places for any business to locate a new shop or office \n",
    "##### This project will enable data to predict the best neighborhoods to open a new wine store."
   ]
  },
  {
   "cell_type": "markdown",
   "metadata": {},
   "source": [
    "### 1.3 Interest"
   ]
  },
  {
   "cell_type": "markdown",
   "metadata": {},
   "source": [
    "##### A retail store wants to open a store in Toronto. This company sell wines to both people directly in the shop and to restaurants. \n",
    "##### They want to open their store near their potential customers. \n",
    "##### They think the best place to start business in the city will be a neighborhood with as many restaurants as possible, with more population (where presumably their products would be consumed more often), and with more average income where their more expensive (and more profitable) products will sell better. \n",
    "##### They want me to find them several neighborhoods with this criteria, but finally will be they who select the final location."
   ]
  },
  {
   "cell_type": "markdown",
   "metadata": {},
   "source": [
    "## 2. Data acquisition and cleaning"
   ]
  },
  {
   "cell_type": "markdown",
   "metadata": {},
   "source": [
    "### 2.1 Data sources"
   ]
  },
  {
   "cell_type": "markdown",
   "metadata": {},
   "source": [
    "##### The population and income for every Toronto neighborhood can be found in wikipedia pages https://en.wikipedia.org/wiki/Demographics_of_Toronto_neighbourhoods \n",
    "##### Some web scrapping technics will be needed to get the data from this web page. The dataset is from several years ago, but this is not a quick changing data in percentage, so it will serve for purpose.\n",
    "##### On the other hand The restaurants in every neighborhood can be obtained from FourSquare using their API."
   ]
  },
  {
   "cell_type": "markdown",
   "metadata": {},
   "source": [
    "### 2.2 Data cleaning"
   ]
  },
  {
   "cell_type": "markdown",
   "metadata": {},
   "source": [
    "##### The income and population  for every Toronto neighborhood are columns in the referred wikipedia web page\n",
    "##### Web scrapping is the technique to get this information from the page into a usable data frame"
   ]
  },
  {
   "cell_type": "markdown",
   "metadata": {},
   "source": [
    "### 2.3 Feature selection"
   ]
  },
  {
   "cell_type": "markdown",
   "metadata": {},
   "source": [
    "##### Data venues for Toronto neighborhood must be filtered to get only the restaurants, and summed to get the amount of them in every neighborhood. \n",
    "##### The income and population  for every Toronto neighborhood are columns in the referred wikipedia web page. The only information to take is the next 3 columns: the name of the neighborhood, the average income, and population\n",
    "##### information tables from both sources must be combined into one table."
   ]
  },
  {
   "cell_type": "code",
   "execution_count": 1,
   "metadata": {},
   "outputs": [],
   "source": []
  }
 ],
 "metadata": {
  "kernelspec": {
   "display_name": "Python",
   "language": "python",
   "name": "conda-env-python-py"
  },
  "language_info": {
   "codemirror_mode": {
    "name": "ipython",
    "version": 3
   },
   "file_extension": ".py",
   "mimetype": "text/x-python",
   "name": "python",
   "nbconvert_exporter": "python",
   "pygments_lexer": "ipython3",
   "version": "3.6.10"
  }
 },
 "nbformat": 4,
 "nbformat_minor": 4
}
